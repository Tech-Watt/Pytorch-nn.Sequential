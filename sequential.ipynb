{
 "cells": [
  {
   "cell_type": "code",
   "execution_count": 6,
   "id": "6a2ab227",
   "metadata": {},
   "outputs": [],
   "source": [
    "import torch.nn as nn\n",
    "from torchinfo import summary"
   ]
  },
  {
   "cell_type": "markdown",
   "id": "e8b8a54f",
   "metadata": {},
   "source": [
    "What is nn.Sequential?\n",
    "Explain in simple words: “It’s a container that runs layers one after another, in the order you define.\n",
    "\n",
    "nn.Sequential in PyTorch is a super handy way to \n",
    "quickly build a neural network without writing a full forward() method"
   ]
  },
  {
   "cell_type": "markdown",
   "id": "4cabf603",
   "metadata": {},
   "source": [
    "Creating Pytorch Model without Using Sequential"
   ]
  },
  {
   "cell_type": "code",
   "execution_count": 7,
   "id": "a77d62f1",
   "metadata": {},
   "outputs": [],
   "source": [
    "class MyModel(nn.Module):\n",
    "    \n",
    "    def __init__(self):\n",
    "        super(MyModel, self).__init__()\n",
    "        self.fc1 = nn.Linear(2, 20)\n",
    "        self.fc2 = nn.Linear(20, 12)\n",
    "        self.fc3 = nn.Linear(12, 1)\n",
    "        self.relu = nn.ReLU()\n",
    "        self.sigmoid = nn.Sigmoid()\n",
    "\n",
    "    def forward(self, x):\n",
    "        x = self.relu(self.fc1(x))\n",
    "        x = self.relu(self.fc2(x))\n",
    "        x = self.sigmoid(self.fc3(x))\n",
    "        return x"
   ]
  },
  {
   "cell_type": "code",
   "execution_count": 8,
   "id": "c9d8e2c9",
   "metadata": {},
   "outputs": [
    {
     "data": {
      "text/plain": [
       "==========================================================================================\n",
       "Layer (type:depth-idx)                   Output Shape              Param #\n",
       "==========================================================================================\n",
       "MyModel                                  [1]                       --\n",
       "├─Linear: 1-1                            [20]                      60\n",
       "├─ReLU: 1-2                              [20]                      --\n",
       "├─Linear: 1-3                            [12]                      252\n",
       "├─ReLU: 1-4                              [12]                      --\n",
       "├─Linear: 1-5                            [1]                       13\n",
       "├─Sigmoid: 1-6                           [1]                       --\n",
       "==========================================================================================\n",
       "Total params: 325\n",
       "Trainable params: 325\n",
       "Non-trainable params: 0\n",
       "Total mult-adds (Units.MEGABYTES): 0.00\n",
       "==========================================================================================\n",
       "Input size (MB): 0.00\n",
       "Forward/backward pass size (MB): 0.00\n",
       "Params size (MB): 0.00\n",
       "Estimated Total Size (MB): 0.00\n",
       "=========================================================================================="
      ]
     },
     "execution_count": 8,
     "metadata": {},
     "output_type": "execute_result"
    }
   ],
   "source": [
    "model = MyModel()\n",
    "summary(model, input_size=(2,))"
   ]
  },
  {
   "cell_type": "markdown",
   "id": "531aaf39",
   "metadata": {},
   "source": [
    "Using PyTorch nn.Sequential to simplify it"
   ]
  },
  {
   "cell_type": "markdown",
   "id": "a0774a36",
   "metadata": {},
   "source": [
    "✅ Same behavior\n",
    "✅ Much cleaner code\n",
    "✅ No need for forward()"
   ]
  },
  {
   "cell_type": "code",
   "execution_count": 9,
   "id": "89bb26db",
   "metadata": {},
   "outputs": [],
   "source": [
    "def build_model():\n",
    "    return nn.Sequential(\n",
    "        nn.Linear(2, 20),\n",
    "        nn.ReLU(),\n",
    "        nn.Linear(20, 12),\n",
    "        nn.ReLU(),\n",
    "        nn.Linear(12, 1),\n",
    "        nn.Sigmoid()\n",
    "    )"
   ]
  },
  {
   "cell_type": "code",
   "execution_count": 10,
   "id": "791b9ece",
   "metadata": {},
   "outputs": [
    {
     "data": {
      "text/plain": [
       "==========================================================================================\n",
       "Layer (type:depth-idx)                   Output Shape              Param #\n",
       "==========================================================================================\n",
       "Sequential                               [1]                       --\n",
       "├─Linear: 1-1                            [20]                      60\n",
       "├─ReLU: 1-2                              [20]                      --\n",
       "├─Linear: 1-3                            [12]                      252\n",
       "├─ReLU: 1-4                              [12]                      --\n",
       "├─Linear: 1-5                            [1]                       13\n",
       "├─Sigmoid: 1-6                           [1]                       --\n",
       "==========================================================================================\n",
       "Total params: 325\n",
       "Trainable params: 325\n",
       "Non-trainable params: 0\n",
       "Total mult-adds (Units.MEGABYTES): 0.00\n",
       "==========================================================================================\n",
       "Input size (MB): 0.00\n",
       "Forward/backward pass size (MB): 0.00\n",
       "Params size (MB): 0.00\n",
       "Estimated Total Size (MB): 0.00\n",
       "=========================================================================================="
      ]
     },
     "execution_count": 10,
     "metadata": {},
     "output_type": "execute_result"
    }
   ],
   "source": [
    "model = build_model()\n",
    "summary(model, input_size=(2,))"
   ]
  },
  {
   "cell_type": "markdown",
   "id": "d150eb15",
   "metadata": {},
   "source": [
    "Conclusion\n",
    "Both models do the exact same thing!\n",
    "The difference is readability:\n",
    "\n",
    "Custom class → more flexible, required for complex architectures.\n",
    "\n",
    "Sequential → cleaner, faster to write for simple feedforward models."
   ]
  }
 ],
 "metadata": {
  "kernelspec": {
   "display_name": "tech",
   "language": "python",
   "name": "python3"
  },
  "language_info": {
   "codemirror_mode": {
    "name": "ipython",
    "version": 3
   },
   "file_extension": ".py",
   "mimetype": "text/x-python",
   "name": "python",
   "nbconvert_exporter": "python",
   "pygments_lexer": "ipython3",
   "version": "3.13.5"
  }
 },
 "nbformat": 4,
 "nbformat_minor": 5
}
